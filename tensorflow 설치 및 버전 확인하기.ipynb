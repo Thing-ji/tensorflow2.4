{
 "cells": [
  {
   "cell_type": "markdown",
   "id": "patient-brook",
   "metadata": {},
   "source": [
    "##### tensorflow설치하기\n",
    "\n",
    "Anaconda promt -> conda env list(가상 환경 list확인) -> conda create --name tf2.0 python=3.7 (python 3.7버전으로 가상환경 tf2.0 만들기) -> pip install tensorflow == 2.4 (환경 tf2.0에서 tensorflow 2.4버전 설치) -> conda activate tf2.0 (환경 tf2.0로 이동) -> pip list (설치된 list들 확인) -> conda install jupyter (주피터 노트북 설치) -> jupyter notebook(주피터 열기) ->  "
   ]
  },
  {
   "cell_type": "code",
   "execution_count": 1,
   "id": "disturbed-adams",
   "metadata": {},
   "outputs": [],
   "source": [
    "import tensorflow as tf"
   ]
  },
  {
   "cell_type": "code",
   "execution_count": 2,
   "id": "military-spiritual",
   "metadata": {},
   "outputs": [
    {
     "name": "stdout",
     "output_type": "stream",
     "text": [
      "2.4.0\n"
     ]
    }
   ],
   "source": [
    "print(tf.__version__)"
   ]
  }
 ],
 "metadata": {
  "kernelspec": {
   "display_name": "Python 3",
   "language": "python",
   "name": "python3"
  },
  "language_info": {
   "codemirror_mode": {
    "name": "ipython",
    "version": 3
   },
   "file_extension": ".py",
   "mimetype": "text/x-python",
   "name": "python",
   "nbconvert_exporter": "python",
   "pygments_lexer": "ipython3",
   "version": "3.7.9"
  }
 },
 "nbformat": 4,
 "nbformat_minor": 5
}
